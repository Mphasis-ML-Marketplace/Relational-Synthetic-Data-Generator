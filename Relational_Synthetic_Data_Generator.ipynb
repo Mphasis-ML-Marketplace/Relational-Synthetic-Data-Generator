{
 "cells": [
  {
   "cell_type": "markdown",
   "id": "9f06374e",
   "metadata": {},
   "source": [
    "## Relational Synthetic Data Generation\n",
    "\n",
    "This ML solution generates relational synthetic data that preserves properties of original tables and their relationships with privacy.\n",
    "\n",
    "> **Note**: This is a reference notebook and it cannot run unless you make changes suggested in the notebook.\n",
    "\n",
    "#### Pre-requisites:\n",
    "1. **Note**: This notebook contains elements which render correctly in Jupyter interface. Open this notebook from an Amazon SageMaker Notebook Instance or Amazon SageMaker Studio.\n",
    "1. Ensure that IAM role used has **AmazonSageMakerFullAccess**\n",
    "1. Some hands-on experience using [Amazon SageMaker](https://aws.amazon.com/sagemaker/).\n",
    "1. To use this algorithm successfully, ensure that:\n",
    "    1. Either your IAM role has these three permissions and you have authority to make AWS Marketplace subscriptions in the AWS account used: \n",
    "        1. **aws-marketplace:ViewSubscriptions**\n",
    "        1. **aws-marketplace:Unsubscribe**\n",
    "        1. **aws-marketplace:Subscribe**  \n",
    "    2. or your AWS account has a subscription to For Seller to update: clean-sentiment-classification-labels. \n",
    "\n",
    "#### Contents:\n",
    "1. [Subscribe to the algorithm](#1.-Subscribe-to-the-algorithm)\n",
    "1. [Prepare dataset](#2.-Prepare-dataset)\n",
    "\t1. [Dataset format expected by the algorithm](#A.-Dataset-format-expected-by-the-algorithm)\n",
    "\t1. [Configure dataset](#B.-Configure-dataset)\n",
    "\t1. [Upload datasets to Amazon S3](#C.-Upload-datasets-to-Amazon-S3)\n",
    "1. [Execute optimization model](#3.-Execute-optimization-model)\n",
    "\t1. [Set up environment](#3.1-Set-up-environment)\n",
    "\t1. [Execute model](#3.2-Execute-model)\n",
    "    1. [Visualize Output](#3.3-Inspect-the-Output-in-S3)\n",
    "1. [Clean-up](#4.-Clean-up)\n",
    "\t1. [Unsubscribe to the listing (optional)](#Unsubscribe-to-the-listing-(optional))\n",
    "\n",
    "#### Usage instructions\n",
    "You can run this notebook one cell at a time (By using Shift+Enter for running a cell)."
   ]
  },
  {
   "cell_type": "markdown",
   "id": "98ca5dad",
   "metadata": {},
   "source": [
    "### 1. Subscribe to the algorithm"
   ]
  },
  {
   "cell_type": "markdown",
   "id": "5b5bf139",
   "metadata": {},
   "source": [
    "To subscribe to the algorithm:\n",
    "1. Open the algorithm listing page **Relational Synthetic Data Generation**\n",
    "1. On the AWS Marketplace listing,  click on **Continue to subscribe** button.\n",
    "1. On the **Subscribe to this software** page, review and click on **\"Accept Offer\"** if you agree with EULA, pricing, and support terms. \n",
    "1. Once you click on **Continue to configuration button** and then choose a **region**, you will see a **Product Arn**. This is the algorithm ARN that you need to specify while training a custom ML model. Copy the ARN corresponding to your region and specify the same in the following cell."
   ]
  },
  {
   "cell_type": "code",
   "execution_count": 1,
   "id": "b78b6a69",
   "metadata": {},
   "outputs": [],
   "source": [
    "algo_arn = \"arn:aws:sagemaker:us-east-2:786796469737:algorithm/relational-synthetic-structural-data-v1\""
   ]
  },
  {
   "cell_type": "markdown",
   "id": "d17976c4",
   "metadata": {},
   "source": [
    "### 2. Prepare dataset"
   ]
  },
  {
   "cell_type": "code",
   "execution_count": 2,
   "id": "e1b15184",
   "metadata": {},
   "outputs": [],
   "source": [
    "import os\n",
    "import json \n",
    "import uuid\n",
    "import boto3\n",
    "import pickle\n",
    "import base64\n",
    "import tarfile\n",
    "from pprint import pprint\n",
    "\n",
    "import numpy as np\n",
    "import pandas as pd\n",
    "\n",
    "import urllib.request\n",
    "from urllib.parse import urlparse\n",
    "\n",
    "import sagemaker as sage\n",
    "from sagemaker import ModelPackage\n",
    "from sagemaker import get_execution_role"
   ]
  },
  {
   "cell_type": "markdown",
   "id": "3275b2cb",
   "metadata": {},
   "source": [
    "#### A. Dataset format expected by the algorithm"
   ]
  },
  {
   "cell_type": "markdown",
   "id": "865f091e",
   "metadata": {},
   "source": [
    "The algorithm requires data in the format as described:\n",
    "* You need \"input.zip\" which contains parent_table_input.csv, child_table_input.csv, parent_table_variable_info.json, child_table_variable_info.json, input_parameters.json, relational_table_structure.json \n",
    "* parent_table_input.csv, child_table_input.csv are the original relational datasets\n",
    "* parent_table_variable_info.json & child_table_variable_info.json should contain the variable type (ID, name, categorical, numerical) and variable sensitivity (True, False)\n",
    "*  input_parameters.json should contain the parent_table_drop_cols, child_table_drop_cols and scale factor (no. of rows in synthetic compared to original)\n",
    "*  relational_table_structure.json contains the relationship info between the tables\n",
    "* For detailed instructions, please refer sample notebook and algorithm input details"
   ]
  },
  {
   "cell_type": "markdown",
   "id": "5e053264",
   "metadata": {},
   "source": [
    "#### B. Configure dataset"
   ]
  },
  {
   "cell_type": "code",
   "execution_count": 3,
   "id": "2dc57820",
   "metadata": {},
   "outputs": [],
   "source": [
    "training_dataset=\"Input/input.zip\""
   ]
  },
  {
   "cell_type": "markdown",
   "id": "9a8d1b59",
   "metadata": {},
   "source": [
    "#### C. Upload datasets to Amazon S3"
   ]
  },
  {
   "cell_type": "code",
   "execution_count": 4,
   "id": "a86f50d9",
   "metadata": {},
   "outputs": [],
   "source": [
    "role = get_execution_role()"
   ]
  },
  {
   "cell_type": "code",
   "execution_count": null,
   "id": "b265e1c8",
   "metadata": {},
   "outputs": [],
   "source": [
    "sagemaker_session = sage.Session()\n",
    "\n",
    "bucket = sagemaker_session.default_bucket()\n",
    "bucket"
   ]
  },
  {
   "cell_type": "code",
   "execution_count": null,
   "id": "601ba5e4",
   "metadata": {},
   "outputs": [],
   "source": [
    "# training input location\n",
    "common_prefix = \"relational-synthetic-data-generator\"\n",
    "training_input_prefix = common_prefix + \"/training-input-data\"\n",
    "TRAINING_WORKDIR = \"Input\" #Input directory in Jupyter Server\n",
    "training_input = sagemaker_session.upload_data(TRAINING_WORKDIR, key_prefix=training_input_prefix) #uploads data from jupyter server to S3\n",
    "print(\"Training input uploaded to \" + training_input)"
   ]
  },
  {
   "cell_type": "markdown",
   "id": "7e082938",
   "metadata": {},
   "source": [
    "## 3. Execute the training process"
   ]
  },
  {
   "cell_type": "markdown",
   "id": "0514bcbf",
   "metadata": {},
   "source": [
    "Now that dataset is available in an accessible Amazon S3 bucket, we are ready to execute a training pipeline to get clean sentiment class labels using clean-sentiment-classification-labels Algorithm. "
   ]
  },
  {
   "cell_type": "markdown",
   "id": "071b58dd",
   "metadata": {},
   "source": [
    "### 3.1 Set up environment"
   ]
  },
  {
   "cell_type": "code",
   "execution_count": 7,
   "id": "3ae0dcb3",
   "metadata": {},
   "outputs": [],
   "source": [
    "output_location = 's3://{}/relational-synthetic-data-generator/{}'.format(bucket, 'output')"
   ]
  },
  {
   "cell_type": "markdown",
   "id": "e251dc16",
   "metadata": {},
   "source": [
    "### 3.2 Execute model"
   ]
  },
  {
   "cell_type": "markdown",
   "id": "5379f5da",
   "metadata": {},
   "source": [
    "For information on creating an `Estimator` object, see [documentation](https://sagemaker.readthedocs.io/en/stable/api/training/estimators.html)"
   ]
  },
  {
   "cell_type": "code",
   "execution_count": 8,
   "id": "bcc4f980",
   "metadata": {},
   "outputs": [],
   "source": [
    "training_instance_type=\"ml.m5.4xlarge\""
   ]
  },
  {
   "cell_type": "code",
   "execution_count": 9,
   "id": "3cf87d1c",
   "metadata": {},
   "outputs": [
    {
     "name": "stdout",
     "output_type": "stream",
     "text": [
      "2023-01-09 10:44:41 Starting - Starting the training job...\n",
      "2023-01-09 10:45:05 Starting - Preparing the instances for trainingProfilerReport-1673261081: InProgress\n",
      "......\n",
      "2023-01-09 10:46:09 Downloading - Downloading input data\n",
      "2023-01-09 10:46:09 Training - Downloading the training image.........\n",
      "2023-01-09 10:47:25 Training - Training image download completed. Training in progress.....\u001b[34mThe table lineage is from left to right in the list: \u001b[0m\n",
      "\u001b[34m#015  0%|          | 0/1000 [00:00<?, ?it/s]#015Sampling conditions:   0%|          | 0/1000 [00:00<?, ?it/s]#015Sampling conditions:   0%|          | 4/1000 [00:00<00:26, 38.04it/s]#015Sampling conditions:   1%|          | 8/1000 [00:00<00:25, 39.07it/s]#015Sampling conditions:   1%|          | 12/1000 [00:00<00:25, 39.37it/s]#015Sampling conditions:   2%|▏         | 16/1000 [00:00<00:24, 39.59it/s]#015Sampling conditions:   2%|▏         | 20/1000 [00:00<00:24, 39.68it/s]#015Sampling conditions:   2%|▏         | 24/1000 [00:00<00:24, 39.75it/s]#015Sampling conditions:   3%|▎         | 28/1000 [00:00<00:24, 39.81it/s]#015Sampling conditions:   3%|▎         | 33/1000 [00:00<00:24, 39.92it/s]#015Sampling conditions:   4%|▍         | 38/1000 [00:00<00:24, 40.03it/s]#015Sampling conditions:   4%|▍         | 43/1000 [00:01<00:23, 40.16it/s]#015Sampling conditions:   5%|▍         | 48/1000 [00:01<00:23, 40.15it/s]#015Sampling conditions:   5%|▌         | 53/1000 [00:01<00:23, 40.27it/s]#015Sampling conditions:   6%|▌         | 58/1000 [00:01<00:23, 40.33it/s]#015Sampling conditions:   6%|▋         | 63/1000 [00:01<00:23, 40.37it/s]#015Sampling conditions:   7%|▋         | 68/1000 [00:01<00:23, 40.41it/s]#015Sampling conditions:   7%|▋         | 73/1000 [00:01<00:22, 40.46it/s]#015Sampling conditions:   8%|▊         | 78/1000 [00:01<00:22, 40.51it/s]#015Sampling conditions:   8%|▊         | 83/1000 [00:02<00:22, 40.30it/s]#015Sampling conditions:   9%|▉         | 88/1000 [00:02<00:22, 40.13it/s]#015Sampling conditions:   9%|▉         | 93/1000 [00:02<00:22, 40.30it/s]#015Sampling conditions:  10%|▉         | 98/1000 [00:02<00:22, 40.39it/s]#015Sampling conditions:  10%|█         | 103/1000 [00:02<00:22, 40.48it/s]#015Sampling conditions:  11%|█         | 108/1000 [00:02<00:21, 40.59it/s]#015Sampling conditions:  11%|█▏        | 113/1000 [00:02<00:21, 40.65it/s]#015Sampling conditions:  12%|█▏        | 118/1000 [00:02<00:21, 40.68it/s]#015Sampling conditions:  12%|█▏        | 123/1000 [00:03<00:21, 40.74it/s]#015Sampling conditions:  13%|█▎        | 128/1000 [00:03<00:21, 40.77it/s]#015Sampling conditions:  13%|█▎        | 133/1000 [00:03<00:21, 40.79it/s]#015Sampling conditions:  14%|█▍        | 138/1000 [00:03<00:21, 40.82it/s]#015Sampling conditions:  14%|█▍        | 143/1000 [00:03<00:20, 40.84it/s]#015Sampling conditions:  15%|█▍        | 148/1000 [00:03<00:20, 40.88it/s]#015Sampling conditions:  15%|█▌        | 153/1000 [00:03<00:20, 40.88it/s]#015Sampling conditions:  16%|█▌        | 158/1000 [00:03<00:20, 40.88it/s]#015Sampling conditions:  16%|█▋        | 163/1000 [00:04<00:20, 40.87it/s]#015Sampling conditions:  17%|█▋        | 168/1000 [00:04<00:20, 40.91it/s]#015Sampling conditions:  17%|█▋        | 173/1000 [00:04<00:20, 40.91it/s]#015Sampling conditions:  18%|█▊        | 178/1000 [00:04<00:20, 40.96it/s]#015Sampling conditions:  18%|█▊        | 183/1000 [00:04<00:19, 40.97it/s]#015Sampling conditions:  19%|█▉        | 188/1000 [00:04<00:19, 40.95it/s]#015Sampling conditions:  19%|█▉        | 193/1000 [00:04<00:19, 40.95it/s]#015Sampling conditions:  20%|█▉        | 198/1000 [00:04<00:19, 40.99it/s]#015Sampling conditions:  20%|██        | 203/1000 [00:05<00:19, 40.98it/s]#015Sampling conditions:  21%|██        | 208/1000 [00:05<00:19, 40.93it/s]#015Sampling conditions:  21%|██▏       | 213/1000 [00:05<00:19, 40.92it/s]#015Sampling conditions:  22%|██▏       | 218/1000 [00:05<00:19, 40.95it/s]#015Sampling conditions:  22%|██▏       | 223/1000 [00:05<00:18, 40.95it/s]#015Sampling conditions:  23%|██▎       | 228/1000 [00:05<00:18, 40.94it/s]#015Sampling conditions:  23%|██▎       | 233/1000 [00:05<00:18, 40.96it/s]#015Sampling conditions:  24%|██▍       | 238/1000 [00:05<00:18, 40.99it/s]#015Sampling conditions:  24%|██▍       | 243/1000 [00:05<00:18, 40.94it/s]#015Sampling conditions:  25%|██▍       | 248/1000 [00:06<00:18, 40.88it/s]#015Sampling conditions:  25%|██▌       | 253/1000 [00:06<00:18, 40.94it/s]#015Sampling conditions:  26%|██▌       | 258/1000 [00:06<00:18, 40.86it/s]#015Sampling conditions:  26%|██▋       | 263/1000 [00:06<00:18, 40.90it/s]#015Sampling conditions:  27%|██▋       | 268/1000 [00:06<00:17, 40.90it/s]#015Sampling conditions:  27%|██▋       | 273/1000 [00:06<00:17, 40.93it/s]#015Sampling conditions:  28%|██▊       | 278/1000 [00:06<00:17, 40.95it/s]#015Sampling conditions:  28%|██▊       | 283/1000 [00:06<00:17, 40.96it/s]#015Sampling conditions:  29%|██▉       | 288/1000 [00:07<00:17, 40.97it/s]#015Sampling conditions:  29%|██▉       | 293/1000 [00:07<00:17, 41.03it/s]#015Sampling conditions:  30%|██▉       | 298/1000 [00:07<00:17, 41.00it/s]#015Sampling conditions:  30%|███       | 303/1000 [00:07<00:16, 41.04it/s]#015Sampling conditions:  31%|███       | 308/1000 [00:07<00:16, 41.02it/s]#015Sampling conditions:  31%|███▏      | 313/1000 [00:07<00:16, 41.02it/s]#015Sampling conditions:  32%|███▏      | 318/1000 [00:07<00:16, 41.01it/s]#015Sampling conditions:  32%|███▏      | 323/1000 [00:07<00:16, 41.00it/s]#015Sampling conditions:  33%|███▎      | 328/1000 [00:08<00:16, 40.90it/s]#015Sampling conditions:  33%|███▎      | 333/1000 [00:08<00:16, 40.92it/s]#015Sampling conditions:  34%|███▍      | 338/1000 [00:08<00:16, 40.90it/s]#015Sampling conditions:  34%|███▍      | 343/1000 [00:08<00:16, 40.91it/s]#015Sampling conditions:  35%|███▍      | 348/1000 [00:08<00:15, 40.95it/s]#015Sampling conditions:  35%|███▌      | 353/1000 [00:08<00:15, 40.98it/s]#015Sampling conditions:  36%|███▌      | 358/1000 [00:08<00:15, 41.00it/s]#015Sampling conditions:  36%|███▋      | 363/1000 [00:08<00:15, 41.05it/s]#015Sampling conditions:  37%|███▋      | 368/1000 [00:09<00:15, 40.98it/s]#015Sampling conditions:  37%|███▋      | 373/1000 [00:09<00:15, 40.99it/s]#015Sampling conditions:  38%|███▊      | 378/1000 [00:09<00:15, 40.99it/s]#015Sampling conditions:  38%|███▊      | 383/1000 [00:09<00:15, 40.93it/s]#015Sampling conditions:  39%|███▉      | 388/1000 [00:09<00:14, 40.91it/s]#015Sampling conditions:  39%|███▉      | 393/1000 [00:09<00:14, 40.90it/s]#015Sampling conditions:  40%|███▉      | 398/1000 [00:09<00:14, 40.91it/s]#015Sampling conditions:  40%|████      | 403/1000 [00:09<00:14, 40.87it/s]#015Sampling conditions:  41%|████      | 408/1000 [00:10<00:14, 40.80it/s]#015Sampling conditions:  41%|████▏     | 413/1000 [00:10<00:14, 40.85it/s]#015Sampling conditions:  42%|████▏     | 418/1000 [00:10<00:14, 40.89it/s]#015Sampling conditions:  42%|████▏     | 423/1000 [00:10<00:14, 40.83it/s]#015Sampling conditions:  43%|████▎     | 428/1000 [00:10<00:13, 40.88it/s]#015Sampling conditions:  43%|████▎     | 433/1000 [00:10<00:13, 40.92it/s]#015Sampling conditions:  44%|████▍     | 438/1000 [00:10<00:13, 40.90it/s]#015Sampling conditions:  44%|████▍     | 443/1000 [00:10<00:13, 40.91it/s]#015Sampling conditions:  45%|████▍     | 448/1000 [00:10<00:13, 40.90it/s]#015Sampling conditions:  45%|████▌     | 453/1000 [00:11<00:13, 40.89it/s]#015Sampling conditions:  46%|████▌     | 458/1000 [00:11<00:13, 40.93it/s]#015Sampling conditions:  46%|████▋     | 463/1000 [00:11<00:13, 40.91it/s]#015Sampling conditions:  47%|████▋     | 468/1000 [00:11<00:13, 40.92it/s]#015Sampling conditions:  47%|████▋     | 473/1000 [00:11<00:12, 40.94it/s]#015Sampling conditions:  48%|████▊     | 478/1000 [00:11<00:12, 40.95it/s]#015Sampling conditions:  48%|████▊     | 483/1000 [00:11<00:12, 40.95it/s]#015Sampling conditions:  49%|████▉     | 488/1000 [00:11<00:12, 40.97it/s]#015Sampling conditions:  49%|████▉     | 493/1000 [00:12<00:12, 40.86it/s]#015Sampling conditions:  50%|████▉     | 498/1000 [00:12<00:12, 40.90it/s]#015Sampling conditions:  50%|█████     | 503/1000 [00:12<00:12, 40.96it/s]#015Sampling conditions:  51%|█████     | 508/1000 [00:12<00:12, 40.96it/s]#015Sampling conditions:  51%|█████▏    | 513/1000 [00:12<00:11, 40.97it/s]#015Sampling conditions:  52%|█████▏    | 518/1000 [00:12<00:11, 40.97it/s]#015Sampling conditions:  52%|█████▏    | 523/1000 [00:12<00:11, 40.98it/s]#015Sampling conditions:  53%|█████▎    | 528/1000 [00:12<00:11, 40.97it/s]#015Sampling conditions:  53%|█████▎    | 533/1000 [00:13<00:11, 41.00it/s]#015Sampling conditions:  54%|█████▍    | 538/1000 [00:13<00:11, 41.03it/s]#015Sampling conditions:  54%|█████▍    | 543/1000 [00:13<00:11, 41.01it/s]#015Sampling conditions:  55%|█████▍    | 548/1000 [00:13<00:11, 41.01it/s]#015Sampling conditions:  55%|█████▌    | 553/1000 [00:13<00:10, 41.00it/s]#015Sampling conditions:  56%|█████▌    | 558/1000 [00:13<00:10, 41.04it/s]#015Sampling conditions:  56%|█████▋    | 563/1000 [00:13<00:10, 41.00it/s]#015Sampling conditions:  57%|█████▋    | 568/1000 [00:13<00:10, 41.02it/s]#015Sampling conditions:  57%|█████▋    | 573/1000 [00:14<00:10, 41.04it/s]#015Sampling conditions:  58%|█████▊    | 578/1000 [00:14<00:10, 41.06it/s]#015Sampling conditions:  58%|█████▊    | 583/1000 [00:14<00:10, 41.10it/s]#015Sampling conditions:  59%|█████▉    | 588/1000 [00:14<00:10, 41.09it/s]#015Sampling conditions:  59%|█████▉    | 593/1000 [00:14<00:09, 41.01it/s]#015Sampling conditions:  60%|█████▉    | 598/1000 [00:14<00:09, 41.04it/s]#015Sampling conditions:  60%|██████    | 603/1000 [00:14<00:09, 41.08it/s]#015Sampling conditions:  61%|██████    | 608/1000 [00:14<00:09, 41.07it/s]#015Sampling conditions:  61%|██████▏   | 613/1000 [00:15<00:09, 41.07it/s]#015Sampling conditions:  62%|██████▏   | 618/1000 [00:15<00:09, 41.06it/s]#015Sampling conditions:  62%|██████▏   | 623/1000 [00:15<00:09, 41.07it/s]#015Sampling conditions:  63%|██████▎   | 628/1000 [00:15<00:09, 41.09it/s]#015Sampling conditions:  63%|██████▎   | 633/1000 [00:15<00:08, 41.04it/s]#015Sampling conditions:  64%|██████▍   | 638/1000 [00:15<00:08, 41.03it/s]#015Sampling conditions:  64%|██████▍   | 643/1000 [00:15<00:08, 41.03it/s]#015Sampling conditions:  65%|██████▍   | 648/1000 [00:15<00:08, 41.04it/s]#015Sampling conditions:  65%|██████▌   | 653/1000 [00:15<00:08, 41.02it/s]#015Sampling conditions:  66%|██████▌   | 658/1000 [00:16<00:08, 41.07it/s]#015Sampling conditions:  66%|██████▋   | 663/1000 [00:16<00:08, 41.09it/s]#015Sampling conditions:  67%|██████▋   | 668/1000 [00:16<00:08, 41.08it/s]#015Sampling conditions:  67%|██████▋   | 673/1000 [00:16<00:07, 41.05it/s]#015Sampling conditions:  68%|██████▊   | 678/1000 [00:16<00:07, 41.02it/s]#015Sampling conditions:  68%|██████▊   | 683/1000 [00:16<00:07, 41.04it/s]#015Sampling conditions:  69%|██████▉   | 688/1000 [00:16<00:07, 41.01it/s]#015Sampling conditions:  69%|██████▉   | 693/1000 [00:16<00:07, 40.97it/s]#015Sampling conditions:  70%|██████▉   | 698/1000 [00:17<00:07, 41.00it/s]#015Sampling conditions:  70%|███████   | 703/1000 [00:17<00:07, 41.04it/s]#015Sampling conditions:  71%|███████   | 708/1000 [00:17<00:07, 41.03it/s]#015Sampling conditions:  71%|███████▏  | 713/1000 [00:17<00:06, 41.07it/s]#015Sampling conditions:  72%|███████▏  | 718/1000 [00:17<00:06, 41.06it/s]#015Sampling conditions:  72%|███████▏  | 723/1000 [00:17<00:06, 41.08it/s]#015Sampling conditions:  73%|███████▎  | 728/1000 [00:17<00:06, 41.01it/s]#015Sampling conditions:  73%|███████▎  | 733/1000 [00:17<00:06, 41.01it/s]#015Sampling conditions:  74%|███████▍  | 738/1000 [00:18<00:06, 41.02it/s]#015Sampling conditions:  74%|███████▍  | 743/1000 [00:18<00:06, 41.05it/s]#015Sampling conditions:  75%|███████▍  | 748/1000 [00:18<00:06, 41.02it/s]#015Sampling conditions:  75%|███████▌  | 753/1000 [00:18<00:06, 41.02it/s]#015Sampling conditions:  76%|███████▌  | 758/1000 [00:18<00:05, 41.03it/s]#015Sampling conditions:  76%|███████▋  | 763/1000 [00:18<00:05, 40.98it/s]#015Sampling conditions:  77%|███████▋  | 768/1000 [00:18<00:05, 41.00it/s]#015Sampling conditions:  77%|███████▋  | 773/1000 [00:18<00:06, 34.74it/s]#015Sampling conditions:  78%|███████▊  | 778/1000 [00:19<00:06, 36.37it/s]#015Sampling conditions:  78%|███████▊  | 783/1000 [00:19<00:05, 37.63it/s]#015Sampling conditions:  79%|███████▉  | 788/1000 [00:19<00:05, 38.55it/s]#015Sampling conditions:  79%|███████▉  | 793/1000 [00:19<00:05, 39.22it/s]#015Sampling conditions:  80%|███████▉  | 798/1000 [00:19<00:05, 39.72it/s]#015Sampling conditions:  80%|████████  | 803/1000 [00:19<00:04, 40.05it/s]#015Sampling conditions:  81%|████████  | 808/1000 [00:19<00:04, 40.31it/s]#015Sampling conditions:  81%|████████▏ | 813/1000 [00:19<00:04, 40.47it/s]#015Sampling conditions:  82%|████████▏ | 818/1000 [00:20<00:04, 40.57it/s]#015Sampling conditions:  82%|████████▏ | 823/1000 [00:20<00:04, 40.71it/s]#015Sampling conditions:  83%|████████▎ | 828/1000 [00:20<00:04, 40.84it/s]#015Sampling conditions:  83%|████████▎ | 833/1000 [00:20<00:04, 40.96it/s]#015Sampling conditions:  84%|████████▍ | 838/1000 [00:20<00:03, 41.07it/s]#015Sampling conditions:  84%|████████▍ | 843/1000 [00:20<00:03, 41.12it/s]#015Sampling conditions:  85%|████████▍ | 848/1000 [00:20<00:03, 41.17it/s]#015Sampling conditions:  85%|████████▌ | 853/1000 [00:20<00:03, 41.22it/s]#015Sampling conditions:  86%|████████▌ | 858/1000 [00:21<00:03, 41.24it/s]#015Sampling conditions:  86%|████████▋ | 863/1000 [00:21<00:03, 41.29it/s]#015Sampling conditions:  87%|████████▋ | 868/1000 [00:21<00:03, 41.32it/s]#015Sampling conditions:  87%|████████▋ | 873/1000 [00:21<00:03, 41.29it/s]#015Sampling conditions:  88%|████████▊ | 878/1000 [00:21<00:02, 41.31it/s]#015Sampling conditions:  88%|████████▊ | 883/1000 [00:21<00:02, 41.33it/s]#015Sampling conditions:  89%|████████▉ | 888/1000 [00:21<00:02, 41.25it/s]#015Sampling conditions:  89%|████████▉ | 893/1000 [00:21<00:02, 41.29it/s]#015Sampling conditions:  90%|████████▉ | 898/1000 [00:22<00:02, 41.30it/s]#015Sampling conditions:  90%|█████████ | 903/1000 [00:22<00:02, 41.21it/s]#015Sampling conditions:  91%|█████████ | 908/1000 [00:22<00:02, 41.24it/s]#015Sampling conditions:  91%|█████████▏| 913/1000 [00:22<00:02, 41.26it/s]#015Sampling conditions:  92%|█████████▏| 918/1000 [00:22<00:01, 41.31it/s]#015Sampling conditions:  92%|█████████▏| 923/1000 [00:22<00:01, 41.32it/s]#015Sampling conditions:  93%|█████████▎| 928/1000 [00:22<00:01, 41.24it/s]#015Sampling conditions:  93%|█████████▎| 933/1000 [00:22<00:01, 41.23it/s]#015Sampling conditions:  94%|█████████▍| 938/1000 [00:23<00:01, 41.29it/s]#015Sampling conditions:  94%|█████████▍| 943/1000 [00:23<00:01, 41.29it/s]#015Sampling conditions:  95%|█████████▍| 948/1000 [00:23<00:01, 41.29it/s]#015Sampling conditions:  95%|█████████▌| 953/1000 [00:23<00:01, 41.30it/s]#015Sampling conditions:  96%|█████████▌| 958/1000 [00:23<00:01, 41.28it/s]#015Sampling conditions:  96%|█████████▋| 963/1000 [00:23<00:00, 41.28it/s]#015Sampling conditions:  97%|█████████▋| 968/1000 [00:23<00:00, 41.29it/s]#015Sampling conditions:  97%|█████████▋| 973/1000 [00:23<00:00, 41.20it/s]#015Sampling conditions:  98%|█████████▊| 978/1000 [00:23<00:00, 41.24it/s]#015Sampling conditions:  98%|████�\u001b[0m\n",
      "\u001b[34m��████▊| 983/1000 [00:24<00:00, 41.27it/s]#015Sampling conditions:  99%|█████████▉| 988/1000 [00:24<00:00, 41.29it/s]#015Sampling conditions:  99%|█████████▉| 993/1000 [00:24<00:00, 41.30it/s]#015Sampling conditions: 100%|█████████▉| 998/1000 [00:24<00:00, 41.29it/s]#015Sampling conditions: 100%|██████████| 1000/1000 [00:24<00:00, 40.52it/s]\u001b[0m\n",
      "\u001b[34m#015  0%|          | 0/1000 [00:00<?, ?it/s]#015Sampling conditions:   0%|          | 0/1000 [00:00<?, ?it/s]#015Sampling conditions:   0%|          | 5/1000 [00:00<00:20, 48.17it/s]#015Sampling conditions:   1%|▏         | 13/1000 [00:00<00:15, 64.43it/s]#015Sampling conditions:   2%|▏         | 21/1000 [00:00<00:13, 71.27it/s]#015Sampling conditions:   3%|▎         | 29/1000 [00:00<00:13, 74.59it/s]#015Sampling conditions:   4%|▎         | 37/1000 [00:00<00:12, 76.46it/s]#015Sampling conditions:   5%|▍         | 46/1000 [00:00<00:12, 77.76it/s]#015Sampling conditions:   5%|▌         | 54/1000 [00:00<00:12, 78.47it/s]#015Sampling conditions:   6%|▌         | 62/1000 [00:00<00:11, 78.92it/s]#015Sampling conditions:   7%|▋         | 70/1000 [00:00<00:11, 79.16it/s]#015Sampling conditions:   8%|▊         | 78/1000 [00:01<00:11, 79.37it/s]#015Sampling conditions:   9%|▊         | 86/1000 [00:01<00:11, 79.54it/s]#015Sampling conditions:   9%|▉         | 94/1000 [00:01<00:11, 79.52it/s]#015Sampling conditions:  10%|█         | 103/1000 [00:01<00:11, 79.69it/s]#015Sampling conditions:  11%|█         | 111/1000 [00:01<00:11, 79.70it/s]#015Sampling conditions:  12%|█▏        | 119/1000 [00:01<00:11, 79.77it/s]#015Sampling conditions:  13%|█▎        | 127/1000 [00:01<00:10, 79.80it/s]#015Sampling conditions:  14%|█▎        | 135/1000 [00:01<00:10, 79.83it/s]#015Sampling conditions:  14%|█▍        | 143/1000 [00:01<00:10, 79.81it/s]#015Sampling conditions:  15%|█▌        | 151/1000 [00:01<00:10, 79.80it/s]#015Sampling conditions:  16%|█▌        | 159/1000 [00:02<00:10, 79.76it/s]#015Sampling conditions:  17%|█▋        | 167/1000 [00:02<00:10, 79.77it/s]#015Sampling conditions:  18%|█▊        | 175/1000 [00:02<00:10, 79.79it/s]#015Sampling conditions:  18%|█▊        | 183/1000 [00:02<00:10, 79.82it/s]#015Sampling conditions:  19%|█▉        | 191/1000 [00:02<00:10, 79.84it/s]#015Sampling conditions:  20%|█▉        | 199/1000 [00:02<00:10, 79.83it/s]#015Sampling conditions:  21%|██        | 207/1000 [00:02<00:09, 79.84it/s]#015Sampling conditions:  22%|██▏       | 215/1000 [00:02<00:09, 79.81it/s]#015Sampling conditions:  22%|██▏       | 223/1000 [00:02<00:09, 79.83it/s]#015Sampling conditions:  23%|██▎       | 231/1000 [00:02<00:09, 79.78it/s]#015Sampling conditions:  24%|██▍       | 239/1000 [00:03<00:09, 79.76it/s]#015Sampling conditions:  25%|██▍       | 247/1000 [00:03<00:09, 79.66it/s]#015Sampling conditions:  26%|██▌       | 255/1000 [00:03<00:09, 79.76it/s]#015Sampling conditions:  26%|██▋       | 263/1000 [00:03<00:09, 79.79it/s]#015Sampling conditions:  27%|██▋       | 271/1000 [00:03<00:09, 79.80it/s]#015Sampling conditions:  28%|██▊       | 279/1000 [00:03<00:09, 79.62it/s]#015Sampling conditions:  29%|██▊       | 287/1000 [00:03<00:08, 79.73it/s]#015Sampling conditions:  30%|██▉       | 295/1000 [00:03<00:10, 66.28it/s]#015Sampling conditions:  30%|███       | 303/1000 [00:03<00:09, 69.78it/s]#015Sampling conditions:  31%|███       | 311/1000 [00:04<00:09, 72.48it/s]#015Sampling conditions:  32%|███▏      | 319/1000 [00:04<00:09, 74.51it/s]#015Sampling conditions:  33%|███▎      | 327/1000 [00:04<00:08, 76.02it/s]#015Sampling conditions:  34%|███▎      | 335/1000 [00:04<00:08, 77.13it/s]#015Sampling conditions:  34%|███▍      | 343/1000 [00:04<00:08, 77.89it/s]#015Sampling conditions:  35%|███▌      | 351/1000 [00:04<00:08, 78.43it/s]#015Sampling conditions:  36%|███▌      | 359/1000 [00:04<00:08, 78.83it/s]#015Sampling conditions:  37%|███▋      | 367/1000 [00:04<00:08, 79.12it/s]#015Sampling conditions:  38%|███▊      | 375/1000 [00:04<00:07, 79.32it/s]#015Sampling conditions:  38%|███▊      | 383/1000 [00:04<00:07, 79.42it/s]#015Sampling conditions:  39%|███▉      | 391/1000 [00:05<00:07, 79.45it/s]#015Sampling conditions:  40%|███▉      | 399/1000 [00:05<00:07, 79.56it/s]#015Sampling conditions:  41%|████      | 407/1000 [00:05<00:07, 79.66it/s]#015Sampling conditions:  42%|████▏     | 415/1000 [00:05<00:07, 79.47it/s]#015Sampling conditions:  42%|████▏     | 423/1000 [00:05<00:07, 79.61it/s]#015Sampling conditions:  43%|████▎     | 431/1000 [00:05<00:07, 79.62it/s]#015Sampling conditions:  44%|████▍     | 439/1000 [00:05<00:07, 79.70it/s]#015Sampling conditions:  45%|████▍     | 447/1000 [00:05<00:06, 79.70it/s]#015Sampling conditions:  46%|████▌     | 455/1000 [00:05<00:06, 79.70it/s]#015Sampling conditions:  46%|████▋     | 463/1000 [00:05<00:06, 79.77it/s]#015Sampling conditions:  47%|████▋     | 471/1000 [00:06<00:06, 79.72it/s]#015Sampling conditions:  48%|████▊     | 479/1000 [00:06<00:06, 79.76it/s]#015Sampling conditions:  49%|████▊     | 487/1000 [00:06<00:06, 79.77it/s]#015Sampling conditions:  50%|████▉     | 495/1000 [00:06<00:06, 79.77it/s]#015Sampling conditions:  50%|█████     | 503/1000 [00:06<00:06, 79.78it/s]#015Sampling conditions:  51%|█████     | 511/1000 [00:06<00:06, 79.75it/s]#015Sampling conditions:  52%|█████▏    | 519/1000 [00:06<00:06, 79.79it/s]#015Sampling conditions:  53%|█████▎    | 527/1000 [00:06<00:05, 79.76it/s]#015Sampling conditions:  54%|█████▎    | 535/1000 [00:06<00:05, 79.83it/s]#015Sampling conditions:  54%|█████▍    | 543/1000 [00:06<00:05, 79.85it/s]#015Sampling conditions:  55%|█████▌    | 551/1000 [00:07<00:05, 79.86it/s]#015Sampling conditions:  56%|█████▌    | 559/1000 [00:07<00:05, 79.83it/s]#015Sampling conditions:  57%|█████▋    | 567/1000 [00:07<00:05, 79.79it/s]#015Sampling conditions:  57%|█████▊    | 575/1000 [00:07<00:05, 79.76it/s]#015Sampling conditions:  58%|█████▊    | 583/1000 [00:07<00:05, 79.62it/s]#015Sampling conditions:  59%|█████▉    | 591/1000 [00:07<00:05, 79.70it/s]#015Sampling conditions:  60%|█████▉    | 599/1000 [00:07<00:05, 79.71it/s]#015Sampling conditions:  61%|██████    | 607/1000 [00:07<00:04, 79.72it/s]#015Sampling conditions:  62%|██████▏   | 615/1000 [00:07<00:04, 79.76it/s]#015Sampling conditions:  62%|██████▏   | 623/1000 [00:07<00:04, 79.81it/s]#015Sampling conditions:  63%|██████▎   | 631/1000 [00:08<00:04, 79.79it/s]#015Sampling conditions:  64%|██████▍   | 639/1000 [00:08<00:04, 79.74it/s]#015Sampling conditions:  65%|██████▍   | 647/1000 [00:08<00:04, 79.69it/s]#015Sampling conditions:  66%|██████▌   | 655/1000 [00:08<00:04, 79.73it/s]#015Sampling conditions:  66%|██████▋   | 663/1000 [00:08<00:04, 79.78it/s]#015Sampling conditions:  67%|██████▋   | 671/1000 [00:08<00:04, 79.78it/s]#015Sampling conditions:  68%|██████▊   | 679/1000 [00:08<00:04, 79.79it/s]#015Sampling conditions:  69%|██████▊   | 687/1000 [00:08<00:03, 79.79it/s]#015Sampling conditions:  70%|██████▉   | 695/1000 [00:08<00:03, 79.79it/s]#015Sampling conditions:  70%|███████   | 703/1000 [00:08<00:03, 79.82it/s]#015Sampling conditions:  71%|███████   | 711/1000 [00:09<00:03, 79.81it/s]#015Sampling conditions:  72%|███████▏  | 719/1000 [00:09<00:03, 79.84it/s]#015Sampling conditions:  73%|███████▎  | 727/1000 [00:09<00:03, 79.77it/s]#015Sampling conditions:  74%|███████▎  | 735/1000 [00:09<00:03, 79.77it/s]#015Sampling conditions:  74%|███████▍  | 743/1000 [00:09<00:03, 79.79it/s]#015Sampling conditions:  75%|███████▌  | 751/1000 [00:09<00:03, 79.63it/s]#015Sampling conditions:  76%|███████▌  | 759/1000 [00:09<00:03, 79.69it/s]#015Sampling conditions:  77%|███████▋  | 767/1000 [00:09<00:02, 79.72it/s]#015Sampling conditions:  78%|███████▊  | 775/1000 [00:09<00:02, 79.74it/s]#015Sampling conditions:  78%|███████▊  | 783/1000 [00:09<00:02, 79.74it/s]#015Sampling conditions:  79%|███████▉  | 791/1000 [00:10<00:02, 79.74it/s]#015Sampling conditions:  80%|███████▉  | 799/1000 [00:10<00:02, 79.77it/s]#015Sampling conditions:  81%|████████  | 807/1000 [00:10<00:02, 79.80it/s]#015Sampling conditions:  82%|████████▏ | 815/1000 [00:10<00:02, 79.83it/s]#015Sampling conditions:  82%|████████▏ | 823/1000 [00:10<00:02, 79.81it/s]#015Sampling conditions:  83%|████████▎ | 831/1000 [00:10<00:02, 79.84it/s]#015Sampling conditions:  84%|████████▍ | 839/1000 [00:10<00:02, 79.82it/s]#015Sampling conditions:  85%|████████▍ | 847/1000 [00:10<00:01, 79.79it/s]#015Sampling conditions:  86%|████████▌ | 855/1000 [00:10<00:01, 79.81it/s]#015Sampling conditions:  86%|████████▋ | 863/1000 [00:10<00:01, 79.74it/s]#015Sampling conditions:  87%|████████▋ | 871/1000 [00:11<00:01, 79.69it/s]#015Sampling conditions:  88%|████████▊ | 879/1000 [00:11<00:01, 79.70it/s]#015Sampling conditions:  89%|████████▊ | 887/1000 [00:11<00:01, 79.68it/s]#015Sampling conditions:  90%|████████▉ | 895/1000 [00:11<00:01, 79.71it/s]#015Sampling conditions:  90%|█████████ | 903/1000 [00:11<00:01, 79.76it/s]#015Sampling conditions:  91%|█████████ | 911/1000 [00:11<00:01, 79.80it/s]#015Sampling conditions:  92%|█████████▏| 919/1000 [00:11<00:01, 79.69it/s]#015Sampling conditions:  93%|█████████▎| 927/1000 [00:11<00:00, 79.71it/s]#015Sampling conditions:  94%|█████████▎| 935/1000 [00:11<00:00, 79.70it/s]#015Sampling conditions:  94%|█████████▍| 943/1000 [00:11<00:00, 79.76it/s]#015Sampling conditions:  95%|█████████▌| 951/1000 [00:12<00:00, 79.81it/s]#015Sampling conditions:  96%|█████████▌| 959/1000 [00:12<00:00, 79.78it/s]#015Sampling conditions:  97%|█████████▋| 967/1000 [00:12<00:00, 79.76it/s]#015Sampling conditions:  98%|█████████▊| 975/1000 [00:12<00:00, 79.74it/s]#015Sampling conditions:  98%|█████████▊| 983/1000 [00:12<00:00, 79.76it/s]#015Sampling conditions:  99%|█████████▉| 991/1000 [00:12<00:00, 79.72it/s]#015Sampling conditions: 100%|█████████▉| 999/1000 [00:12<00:00, 79.78it/s]#015Sampling conditions: 100%|██████████| 1000/1000 [00:12<00:00, 78.70it/s]\u001b[0m\n",
      "\n",
      "2023-01-09 10:49:11 Uploading - Uploading generated training model\n",
      "2023-01-09 10:49:26 Completed - Training job completed\n",
      "Training seconds: 207\n",
      "Billable seconds: 207\n"
     ]
    }
   ],
   "source": [
    "#Create an estimator object for running a training job\n",
    "estimator = sage.algorithm.AlgorithmEstimator(\n",
    "    algorithm_arn=algo_arn,\n",
    "    base_job_name=\"relational-synthetic-data-generator\",\n",
    "    role=role,\n",
    "    train_instance_count=1,\n",
    "    train_instance_type=training_instance_type,\n",
    "    input_mode=\"File\",\n",
    "    output_path=output_location,\n",
    "    sagemaker_session=sagemaker_session,\n",
    "    instance_count=1,\n",
    "    instance_type=training_instance_type\n",
    ")\n",
    "\n",
    "#Run the training job.\n",
    "estimator.fit({\"training\": training_input})"
   ]
  },
  {
   "cell_type": "markdown",
   "id": "460a9a7c",
   "metadata": {},
   "source": [
    "See this [blog-post](https://aws.amazon.com/blogs/machine-learning/easily-monitor-and-visualize-metrics-while-training-models-on-amazon-sagemaker/) for more information how to visualize metrics during the process. You can also open the training job from [Amazon SageMaker console](https://console.aws.amazon.com/sagemaker/home?#/jobs/) and monitor the metrics/logs in **Monitor** section."
   ]
  },
  {
   "cell_type": "code",
   "execution_count": null,
   "id": "152f2799",
   "metadata": {},
   "outputs": [],
   "source": [
    "#output is available on following path\n",
    "estimator.output_path"
   ]
  },
  {
   "cell_type": "markdown",
   "id": "f8602ded",
   "metadata": {},
   "source": [
    "## Note: Inferencing is done within training pipeline. Real time inference endpoint/batch transform job is not required."
   ]
  },
  {
   "cell_type": "markdown",
   "id": "573232ad",
   "metadata": {},
   "source": [
    "### 3.3 Inspect the Output in S3"
   ]
  },
  {
   "cell_type": "code",
   "execution_count": 11,
   "id": "4e7e2fd4",
   "metadata": {},
   "outputs": [],
   "source": [
    "parsed_url = urlparse(estimator.output_path)\n",
    "bucket_name = parsed_url.netloc\n",
    "file_key = parsed_url.path[1:]+'/'+estimator.latest_training_job.job_name+'/output/'+\"model.tar.gz\"\n",
    "\n",
    "s3_client = sagemaker_session.boto_session.client('s3')\n",
    "response = s3_client.get_object(Bucket = sagemaker_session.default_bucket(), Key = file_key)"
   ]
  },
  {
   "cell_type": "code",
   "execution_count": 12,
   "id": "b80600f2",
   "metadata": {},
   "outputs": [],
   "source": [
    "bucketFolder = estimator.output_path.rsplit('/')[3] +'/output/'+ estimator.latest_training_job.job_name+'/output/'+\"model.tar.gz\""
   ]
  },
  {
   "cell_type": "code",
   "execution_count": 13,
   "id": "c52a2091",
   "metadata": {},
   "outputs": [
    {
     "name": "stderr",
     "output_type": "stream",
     "text": [
      "/home/ec2-user/anaconda3/envs/python3/lib/python3.6/site-packages/boto3/compat.py:88: PythonDeprecationWarning: Boto3 will no longer support Python 3.6 starting May 30, 2022. To continue receiving service updates, bug fixes, and security updates please upgrade to Python 3.7 or later. More information can be found here: https://aws.amazon.com/blogs/developer/python-support-policy-updates-for-aws-sdks-and-tools/\n",
      "  warnings.warn(warning, PythonDeprecationWarning)\n"
     ]
    },
    {
     "name": "stdout",
     "output_type": "stream",
     "text": [
      "Output file loaded from bucket\n"
     ]
    }
   ],
   "source": [
    "s3_conn = boto3.client(\"s3\")\n",
    "bucket_name=bucket\n",
    "with open('output.tar.gz', 'wb') as f:\n",
    "    s3_conn.download_fileobj(bucket_name, bucketFolder, f)\n",
    "    print(\"Output file loaded from bucket\")"
   ]
  },
  {
   "cell_type": "code",
   "execution_count": 14,
   "id": "2296a0f9",
   "metadata": {},
   "outputs": [],
   "source": [
    "with tarfile.open('output.tar.gz') as file:\n",
    "    file.extractall('./output')"
   ]
  },
  {
   "cell_type": "code",
   "execution_count": 23,
   "id": "aad39e4e",
   "metadata": {},
   "outputs": [
    {
     "name": "stdout",
     "output_type": "stream",
     "text": [
      "Synthetic Datasets read successfully\n",
      "Performance metrics read successfully\n"
     ]
    }
   ],
   "source": [
    "#synthetic_datasets\n",
    "print(\"Synthetic Datasets read successfully\")\n",
    "parent_table = pd.read_csv(os.path.join(\"output\", \"parent_table.csv\"), index_col=0)\n",
    "child_table = pd.read_csv(os.path.join(\"output\", \"child_table.csv\"), index_col=0)\n",
    "\n",
    "print('Performance metrics read successfully')\n",
    "eval_parent_table = pd.read_csv(os.path.join(\"output\", \"eval_parent_table.csv\"), index_col=0)\n",
    "eval_child_table = pd.read_csv(os.path.join(\"output\", \"eval_child_table.csv\"), index_col=0)"
   ]
  },
  {
   "cell_type": "markdown",
   "id": "683966f9",
   "metadata": {},
   "source": [
    "**Synthethic output data**"
   ]
  },
  {
   "cell_type": "code",
   "execution_count": 24,
   "id": "3b751b50",
   "metadata": {},
   "outputs": [
    {
     "data": {
      "text/html": [
       "<div>\n",
       "<style scoped>\n",
       "    .dataframe tbody tr th:only-of-type {\n",
       "        vertical-align: middle;\n",
       "    }\n",
       "\n",
       "    .dataframe tbody tr th {\n",
       "        vertical-align: top;\n",
       "    }\n",
       "\n",
       "    .dataframe thead th {\n",
       "        text-align: right;\n",
       "    }\n",
       "</style>\n",
       "<table border=\"1\" class=\"dataframe\">\n",
       "  <thead>\n",
       "    <tr style=\"text-align: right;\">\n",
       "      <th></th>\n",
       "      <th>user_id</th>\n",
       "      <th>name</th>\n",
       "      <th>age</th>\n",
       "      <th>city</th>\n",
       "      <th>state</th>\n",
       "      <th>country</th>\n",
       "      <th>zip</th>\n",
       "      <th>latitude</th>\n",
       "      <th>longitude</th>\n",
       "      <th>gender</th>\n",
       "      <th>traffic_source</th>\n",
       "    </tr>\n",
       "  </thead>\n",
       "  <tbody>\n",
       "    <tr>\n",
       "      <th>0</th>\n",
       "      <td>1</td>\n",
       "      <td>RANDOLPH CONNELL</td>\n",
       "      <td>32</td>\n",
       "      <td>Phoenix</td>\n",
       "      <td>Arizona</td>\n",
       "      <td>USA</td>\n",
       "      <td>85001</td>\n",
       "      <td>32.233211</td>\n",
       "      <td>-111.559751</td>\n",
       "      <td>Male</td>\n",
       "      <td>Email</td>\n",
       "    </tr>\n",
       "    <tr>\n",
       "      <th>1</th>\n",
       "      <td>2</td>\n",
       "      <td>JACK HOLT</td>\n",
       "      <td>77</td>\n",
       "      <td>Phoenix</td>\n",
       "      <td>Arizona</td>\n",
       "      <td>USA</td>\n",
       "      <td>85029</td>\n",
       "      <td>32.976531</td>\n",
       "      <td>-112.713756</td>\n",
       "      <td>Male</td>\n",
       "      <td>Display</td>\n",
       "    </tr>\n",
       "    <tr>\n",
       "      <th>2</th>\n",
       "      <td>3</td>\n",
       "      <td>RANDOLPH BARRY</td>\n",
       "      <td>58</td>\n",
       "      <td>Tucson</td>\n",
       "      <td>Arizona</td>\n",
       "      <td>USA</td>\n",
       "      <td>85007</td>\n",
       "      <td>32.455123</td>\n",
       "      <td>-112.094229</td>\n",
       "      <td>Male</td>\n",
       "      <td>Search</td>\n",
       "    </tr>\n",
       "    <tr>\n",
       "      <th>3</th>\n",
       "      <td>4</td>\n",
       "      <td>STEVEN GOSSETT</td>\n",
       "      <td>81</td>\n",
       "      <td>Phoenix</td>\n",
       "      <td>Arizona</td>\n",
       "      <td>USA</td>\n",
       "      <td>85006</td>\n",
       "      <td>32.731460</td>\n",
       "      <td>-113.081407</td>\n",
       "      <td>Male</td>\n",
       "      <td>Search</td>\n",
       "    </tr>\n",
       "    <tr>\n",
       "      <th>4</th>\n",
       "      <td>5</td>\n",
       "      <td>BETTYE HALL</td>\n",
       "      <td>15</td>\n",
       "      <td>Phoenix</td>\n",
       "      <td>Arizona</td>\n",
       "      <td>USA</td>\n",
       "      <td>85016</td>\n",
       "      <td>32.168397</td>\n",
       "      <td>-111.532285</td>\n",
       "      <td>Male</td>\n",
       "      <td>Organic</td>\n",
       "    </tr>\n",
       "  </tbody>\n",
       "</table>\n",
       "</div>"
      ],
      "text/plain": [
       "   user_id              name  age     city    state country    zip   latitude  \\\n",
       "0        1  RANDOLPH CONNELL   32  Phoenix  Arizona     USA  85001  32.233211   \n",
       "1        2         JACK HOLT   77  Phoenix  Arizona     USA  85029  32.976531   \n",
       "2        3    RANDOLPH BARRY   58   Tucson  Arizona     USA  85007  32.455123   \n",
       "3        4    STEVEN GOSSETT   81  Phoenix  Arizona     USA  85006  32.731460   \n",
       "4        5       BETTYE HALL   15  Phoenix  Arizona     USA  85016  32.168397   \n",
       "\n",
       "    longitude gender traffic_source  \n",
       "0 -111.559751   Male          Email  \n",
       "1 -112.713756   Male        Display  \n",
       "2 -112.094229   Male         Search  \n",
       "3 -113.081407   Male         Search  \n",
       "4 -111.532285   Male        Organic  "
      ]
     },
     "execution_count": 24,
     "metadata": {},
     "output_type": "execute_result"
    }
   ],
   "source": [
    "parent_table.head()"
   ]
  },
  {
   "cell_type": "code",
   "execution_count": 25,
   "id": "c06b58e3",
   "metadata": {},
   "outputs": [
    {
     "data": {
      "text/html": [
       "<div>\n",
       "<style scoped>\n",
       "    .dataframe tbody tr th:only-of-type {\n",
       "        vertical-align: middle;\n",
       "    }\n",
       "\n",
       "    .dataframe tbody tr th {\n",
       "        vertical-align: top;\n",
       "    }\n",
       "\n",
       "    .dataframe thead th {\n",
       "        text-align: right;\n",
       "    }\n",
       "</style>\n",
       "<table border=\"1\" class=\"dataframe\">\n",
       "  <thead>\n",
       "    <tr style=\"text-align: right;\">\n",
       "      <th></th>\n",
       "      <th>order_id</th>\n",
       "      <th>user_id</th>\n",
       "      <th>sale_price</th>\n",
       "      <th>status</th>\n",
       "    </tr>\n",
       "  </thead>\n",
       "  <tbody>\n",
       "    <tr>\n",
       "      <th>0</th>\n",
       "      <td>1</td>\n",
       "      <td>1</td>\n",
       "      <td>82.333152</td>\n",
       "      <td>Cancelled</td>\n",
       "    </tr>\n",
       "    <tr>\n",
       "      <th>1</th>\n",
       "      <td>2</td>\n",
       "      <td>2</td>\n",
       "      <td>23.886154</td>\n",
       "      <td>Cancelled</td>\n",
       "    </tr>\n",
       "    <tr>\n",
       "      <th>2</th>\n",
       "      <td>3</td>\n",
       "      <td>3</td>\n",
       "      <td>31.302740</td>\n",
       "      <td>Complete</td>\n",
       "    </tr>\n",
       "    <tr>\n",
       "      <th>3</th>\n",
       "      <td>4</td>\n",
       "      <td>4</td>\n",
       "      <td>42.936255</td>\n",
       "      <td>Cancelled</td>\n",
       "    </tr>\n",
       "    <tr>\n",
       "      <th>4</th>\n",
       "      <td>5</td>\n",
       "      <td>5</td>\n",
       "      <td>12.264545</td>\n",
       "      <td>Cancelled</td>\n",
       "    </tr>\n",
       "  </tbody>\n",
       "</table>\n",
       "</div>"
      ],
      "text/plain": [
       "   order_id  user_id  sale_price     status\n",
       "0         1        1   82.333152  Cancelled\n",
       "1         2        2   23.886154  Cancelled\n",
       "2         3        3   31.302740   Complete\n",
       "3         4        4   42.936255  Cancelled\n",
       "4         5        5   12.264545  Cancelled"
      ]
     },
     "execution_count": 25,
     "metadata": {},
     "output_type": "execute_result"
    }
   ],
   "source": [
    "child_table.head()"
   ]
  },
  {
   "cell_type": "markdown",
   "id": "db9e0047",
   "metadata": {},
   "source": [
    "**Performance Metrics**"
   ]
  },
  {
   "cell_type": "code",
   "execution_count": 26,
   "id": "6ef8fae2",
   "metadata": {},
   "outputs": [
    {
     "data": {
      "text/html": [
       "<div>\n",
       "<style scoped>\n",
       "    .dataframe tbody tr th:only-of-type {\n",
       "        vertical-align: middle;\n",
       "    }\n",
       "\n",
       "    .dataframe tbody tr th {\n",
       "        vertical-align: top;\n",
       "    }\n",
       "\n",
       "    .dataframe thead th {\n",
       "        text-align: right;\n",
       "    }\n",
       "</style>\n",
       "<table border=\"1\" class=\"dataframe\">\n",
       "  <thead>\n",
       "    <tr style=\"text-align: right;\">\n",
       "      <th></th>\n",
       "      <th>Synthesizer</th>\n",
       "      <th>Discrete Cols Similarity (CSTest)</th>\n",
       "      <th>Continuous Cols Similarity (KSTest)</th>\n",
       "      <th>All Cols Similarity (evaluation_score)</th>\n",
       "      <th>Privacy at Risk (Exact)</th>\n",
       "    </tr>\n",
       "  </thead>\n",
       "  <tbody>\n",
       "    <tr>\n",
       "      <th>0</th>\n",
       "      <td>SDV</td>\n",
       "      <td>0.95802</td>\n",
       "      <td>0.751</td>\n",
       "      <td>85.451025</td>\n",
       "      <td>23.8</td>\n",
       "    </tr>\n",
       "  </tbody>\n",
       "</table>\n",
       "</div>"
      ],
      "text/plain": [
       "  Synthesizer  Discrete Cols Similarity (CSTest)  \\\n",
       "0         SDV                            0.95802   \n",
       "\n",
       "   Continuous Cols Similarity (KSTest)  \\\n",
       "0                                0.751   \n",
       "\n",
       "   All Cols Similarity (evaluation_score)  Privacy at Risk (Exact)  \n",
       "0                               85.451025                     23.8  "
      ]
     },
     "execution_count": 26,
     "metadata": {},
     "output_type": "execute_result"
    }
   ],
   "source": [
    "eval_parent_table.head()"
   ]
  },
  {
   "cell_type": "code",
   "execution_count": 27,
   "id": "b408909b",
   "metadata": {},
   "outputs": [
    {
     "data": {
      "text/html": [
       "<div>\n",
       "<style scoped>\n",
       "    .dataframe tbody tr th:only-of-type {\n",
       "        vertical-align: middle;\n",
       "    }\n",
       "\n",
       "    .dataframe tbody tr th {\n",
       "        vertical-align: top;\n",
       "    }\n",
       "\n",
       "    .dataframe thead th {\n",
       "        text-align: right;\n",
       "    }\n",
       "</style>\n",
       "<table border=\"1\" class=\"dataframe\">\n",
       "  <thead>\n",
       "    <tr style=\"text-align: right;\">\n",
       "      <th></th>\n",
       "      <th>Synthesizer</th>\n",
       "      <th>Discrete Cols Similarity (CSTest)</th>\n",
       "      <th>Continuous Cols Similarity (KSTest)</th>\n",
       "      <th>All Cols Similarity (evaluation_score)</th>\n",
       "      <th>Privacy at Risk (Exact)</th>\n",
       "    </tr>\n",
       "  </thead>\n",
       "  <tbody>\n",
       "    <tr>\n",
       "      <th>0</th>\n",
       "      <td>SDV</td>\n",
       "      <td>0.999377</td>\n",
       "      <td>0.798</td>\n",
       "      <td>89.868826</td>\n",
       "      <td>31.0</td>\n",
       "    </tr>\n",
       "  </tbody>\n",
       "</table>\n",
       "</div>"
      ],
      "text/plain": [
       "  Synthesizer  Discrete Cols Similarity (CSTest)  \\\n",
       "0         SDV                           0.999377   \n",
       "\n",
       "   Continuous Cols Similarity (KSTest)  \\\n",
       "0                                0.798   \n",
       "\n",
       "   All Cols Similarity (evaluation_score)  Privacy at Risk (Exact)  \n",
       "0                               89.868826                     31.0  "
      ]
     },
     "execution_count": 27,
     "metadata": {},
     "output_type": "execute_result"
    }
   ],
   "source": [
    "eval_child_table.head()"
   ]
  },
  {
   "cell_type": "markdown",
   "id": "b8603e6a",
   "metadata": {},
   "source": [
    "#### Unsubscribe to the listing (optional)"
   ]
  },
  {
   "cell_type": "markdown",
   "id": "7006993d",
   "metadata": {},
   "source": [
    "If you would like to unsubscribe to the algorithm, follow these steps. Before you cancel the subscription, ensure that you do not have any [deployable model](https://console.aws.amazon.com/sagemaker/home#/models) created from the model package or using the algorithm. Note - You can find this information by looking at the container name associated with the model. \n",
    "\n",
    "**Steps to unsubscribe to product from AWS Marketplace**:\n",
    "1. Navigate to __Machine Learning__ tab on [__Your Software subscriptions page__](https://aws.amazon.com/marketplace/ai/library?productType=ml&ref_=mlmp_gitdemo_indust)\n",
    "2. Locate the listing that you want to cancel the subscription for, and then choose __Cancel Subscription__  to cancel the subscription."
   ]
  }
 ],
 "metadata": {
  "kernelspec": {
   "display_name": "conda_python3",
   "language": "python",
   "name": "conda_python3"
  },
  "language_info": {
   "codemirror_mode": {
    "name": "ipython",
    "version": 3
   },
   "file_extension": ".py",
   "mimetype": "text/x-python",
   "name": "python",
   "nbconvert_exporter": "python",
   "pygments_lexer": "ipython3",
   "version": "3.6.13"
  }
 },
 "nbformat": 4,
 "nbformat_minor": 5
}
